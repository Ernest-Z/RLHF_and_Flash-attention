{
 "cells": [
  {
   "cell_type": "code",
   "execution_count": null,
   "id": "b79b2ad7-3acc-44d0-8e84-9337309118cc",
   "metadata": {},
   "outputs": [],
   "source": [
    "import torch\n",
    "import torch.nn as nn\n",
    "import torch.nn.functional as F\n",
    "\n",
    "class FlashAttention(nn.Module):\n",
    "    def __init__(self, embed_dim, num_heads, num_features, memory_efficient=False):\n",
    "        super(FlashAttention, self).__init__()\n",
    "        self.embed_dim = embed_dim\n",
    "        self.num_heads = num_heads\n",
    "        self.num_features = num_features\n",
    "        self.memory_efficient = memory_efficient\n",
    "\n",
    "        self.head_dim = embed_dim // num_heads\n",
    "        assert self.head_dim * num_heads == embed_dim, \"embed_dim must be divisible by num_heads\"\n",
    "\n",
    "        self.query_linear = nn.Linear(embed_dim, num_features)\n",
    "        self.key_linear = nn.Linear(embed_dim, num_features)\n",
    "        self.value_linear = nn.Linear(embed_dim, num_features)\n",
    "\n",
    "        self.out_linear = nn.Linear(num_features, embed_dim)\n",
    "\n",
    "    def forward(self, query, key, value, attention_mask=None):\n",
    "        batch_size = query.size(0)\n",
    "        seq_length = query.size(1)\n",
    "\n",
    "        # 扩展维度\n",
    "        query = self.query_linear(query).view(batch_size, seq_length, self.num_heads, self.head_dim).transpose(1, 2)\n",
    "        key = self.key_linear(key).view(batch_size, seq_length, self.num_heads, self.head_dim).transpose(1, 2)\n",
    "        value = self.value_linear(value).view(batch_size, seq_length, self.num_heads, self.head_dim).transpose(1, 2)\n",
    "\n",
    "        # scaled_attention.transpose(1, 2).contiguous().view(batch_size, seq_length, embed_dim)\n",
    "        # 这里简化了注意力计算，实际中应该使用 FlashAttention 的内存高效版本\n",
    "        attention = torch.matmul(query, key.transpose(-2, -1)) / torch.sqrt(torch.tensor(self.head_dim, dtype=torch.float32))\n",
    "        if attention_mask is not None:\n",
    "            attention = attention.masked_fill(attention_mask == 0, float(\"-inf\"))\n",
    "        attention = F.softmax(attention, dim=-1)\n",
    "        output = torch.matmul(attention, value).transpose(1, 2).contiguous().view(batch_size, seq_length, embed_dim)\n",
    "        output = self.out_linear(output)\n",
    "        return output\n"
   ]
  }
 ],
 "metadata": {
  "kernelspec": {
   "display_name": "Python 3 (ipykernel)",
   "language": "python",
   "name": "python3"
  },
  "language_info": {
   "codemirror_mode": {
    "name": "ipython",
    "version": 3
   },
   "file_extension": ".py",
   "mimetype": "text/x-python",
   "name": "python",
   "nbconvert_exporter": "python",
   "pygments_lexer": "ipython3",
   "version": "3.11.7"
  }
 },
 "nbformat": 4,
 "nbformat_minor": 5
}
